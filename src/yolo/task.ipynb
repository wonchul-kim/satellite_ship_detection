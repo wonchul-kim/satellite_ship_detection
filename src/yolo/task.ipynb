{
 "cells": [
  {
   "cell_type": "code",
   "execution_count": 4,
   "id": "7c026fc5",
   "metadata": {
    "scrolled": true
   },
   "outputs": [
    {
     "name": "stdout",
     "output_type": "stream",
     "text": [
      "Requirement already up-to-date: aifactory in /usr/local/lib/python3.9/dist-packages (2.0.0)\n",
      "Requirement already satisfied, skipping upgrade: ipynbname in /usr/local/lib/python3.9/dist-packages (from aifactory) (2024.1.0.0)\n",
      "Requirement already satisfied, skipping upgrade: IPython in /usr/local/lib/python3.9/dist-packages (from aifactory) (8.18.1)\n",
      "Requirement already satisfied, skipping upgrade: requests in /usr/local/lib/python3.9/dist-packages (from aifactory) (2.31.0)\n",
      "Requirement already satisfied, skipping upgrade: gdown in /usr/local/lib/python3.9/dist-packages (from aifactory) (5.2.0)\n",
      "Requirement already satisfied, skipping upgrade: pipreqs in /usr/local/lib/python3.9/dist-packages (from aifactory) (0.5.0)\n",
      "Requirement already satisfied, skipping upgrade: ipykernel in /usr/local/lib/python3.9/dist-packages (from ipynbname->aifactory) (6.29.5)\n",
      "Requirement already satisfied, skipping upgrade: pexpect>4.3; sys_platform != \"win32\" in /usr/local/lib/python3.9/dist-packages (from IPython->aifactory) (4.9.0)\n",
      "Requirement already satisfied, skipping upgrade: traitlets>=5 in /usr/local/lib/python3.9/dist-packages (from IPython->aifactory) (5.14.3)\n",
      "Requirement already satisfied, skipping upgrade: exceptiongroup; python_version < \"3.11\" in /usr/local/lib/python3.9/dist-packages (from IPython->aifactory) (1.2.0)\n",
      "Requirement already satisfied, skipping upgrade: typing-extensions; python_version < \"3.10\" in /usr/local/lib/python3.9/dist-packages (from IPython->aifactory) (3.7.4.3)\n",
      "Requirement already satisfied, skipping upgrade: jedi>=0.16 in /usr/local/lib/python3.9/dist-packages (from IPython->aifactory) (0.19.1)\n",
      "Requirement already satisfied, skipping upgrade: pygments>=2.4.0 in /usr/local/lib/python3.9/dist-packages (from IPython->aifactory) (2.18.0)\n",
      "Requirement already satisfied, skipping upgrade: stack-data in /usr/local/lib/python3.9/dist-packages (from IPython->aifactory) (0.6.3)\n",
      "Requirement already satisfied, skipping upgrade: matplotlib-inline in /usr/local/lib/python3.9/dist-packages (from IPython->aifactory) (0.1.7)\n",
      "Requirement already satisfied, skipping upgrade: prompt-toolkit<3.1.0,>=3.0.41 in /usr/local/lib/python3.9/dist-packages (from IPython->aifactory) (3.0.48)\n",
      "Requirement already satisfied, skipping upgrade: decorator in /usr/local/lib/python3.9/dist-packages (from IPython->aifactory) (5.1.1)\n",
      "Requirement already satisfied, skipping upgrade: urllib3<3,>=1.21.1 in /usr/local/lib/python3.9/dist-packages (from requests->aifactory) (1.26.18)\n",
      "Requirement already satisfied, skipping upgrade: idna<4,>=2.5 in /usr/lib/python3/dist-packages (from requests->aifactory) (2.8)\n",
      "Requirement already satisfied, skipping upgrade: charset-normalizer<4,>=2 in /usr/local/lib/python3.9/dist-packages (from requests->aifactory) (3.3.2)\n",
      "Requirement already satisfied, skipping upgrade: certifi>=2017.4.17 in /usr/lib/python3/dist-packages (from requests->aifactory) (2019.11.28)\n",
      "Requirement already satisfied, skipping upgrade: filelock in /usr/local/lib/python3.9/dist-packages (from gdown->aifactory) (3.9.0)\n",
      "Requirement already satisfied, skipping upgrade: tqdm in /usr/local/lib/python3.9/dist-packages (from gdown->aifactory) (4.66.2)\n",
      "Requirement already satisfied, skipping upgrade: beautifulsoup4 in /usr/local/lib/python3.9/dist-packages (from gdown->aifactory) (4.12.3)\n",
      "Requirement already satisfied, skipping upgrade: docopt==0.6.2 in /usr/local/lib/python3.9/dist-packages (from pipreqs->aifactory) (0.6.2)\n",
      "Requirement already satisfied, skipping upgrade: nbconvert<8.0.0,>=7.11.0 in /usr/local/lib/python3.9/dist-packages (from pipreqs->aifactory) (7.16.4)\n",
      "Requirement already satisfied, skipping upgrade: yarg==0.1.9 in /usr/local/lib/python3.9/dist-packages (from pipreqs->aifactory) (0.1.9)\n",
      "Requirement already satisfied, skipping upgrade: comm>=0.1.1 in /usr/local/lib/python3.9/dist-packages (from ipykernel->ipynbname->aifactory) (0.2.2)\n",
      "Requirement already satisfied, skipping upgrade: psutil in /usr/local/lib/python3.9/dist-packages (from ipykernel->ipynbname->aifactory) (5.9.8)\n",
      "Requirement already satisfied, skipping upgrade: tornado>=6.1 in /usr/local/lib/python3.9/dist-packages (from ipykernel->ipynbname->aifactory) (6.4.1)\n",
      "Requirement already satisfied, skipping upgrade: packaging in /usr/local/lib/python3.9/dist-packages (from ipykernel->ipynbname->aifactory) (23.2)\n",
      "Requirement already satisfied, skipping upgrade: debugpy>=1.6.5 in /usr/local/lib/python3.9/dist-packages (from ipykernel->ipynbname->aifactory) (1.8.6)\n",
      "Requirement already satisfied, skipping upgrade: nest-asyncio in /usr/local/lib/python3.9/dist-packages (from ipykernel->ipynbname->aifactory) (1.6.0)\n",
      "Requirement already satisfied, skipping upgrade: jupyter-core!=5.0.*,>=4.12 in /usr/local/lib/python3.9/dist-packages (from ipykernel->ipynbname->aifactory) (5.7.2)\n",
      "Requirement already satisfied, skipping upgrade: jupyter-client>=6.1.12 in /usr/local/lib/python3.9/dist-packages (from ipykernel->ipynbname->aifactory) (8.6.3)\n",
      "Requirement already satisfied, skipping upgrade: pyzmq>=24 in /usr/local/lib/python3.9/dist-packages (from ipykernel->ipynbname->aifactory) (26.2.0)\n",
      "Requirement already satisfied, skipping upgrade: ptyprocess>=0.5 in /usr/local/lib/python3.9/dist-packages (from pexpect>4.3; sys_platform != \"win32\"->IPython->aifactory) (0.7.0)\n",
      "Requirement already satisfied, skipping upgrade: parso<0.9.0,>=0.8.3 in /usr/local/lib/python3.9/dist-packages (from jedi>=0.16->IPython->aifactory) (0.8.4)\n",
      "Requirement already satisfied, skipping upgrade: pure-eval in /usr/local/lib/python3.9/dist-packages (from stack-data->IPython->aifactory) (0.2.3)\n",
      "Requirement already satisfied, skipping upgrade: executing>=1.2.0 in /usr/local/lib/python3.9/dist-packages (from stack-data->IPython->aifactory) (2.1.0)\n",
      "Requirement already satisfied, skipping upgrade: asttokens>=2.1.0 in /usr/local/lib/python3.9/dist-packages (from stack-data->IPython->aifactory) (2.4.1)\n",
      "Requirement already satisfied, skipping upgrade: wcwidth in /usr/local/lib/python3.9/dist-packages (from prompt-toolkit<3.1.0,>=3.0.41->IPython->aifactory) (0.2.13)\n",
      "Requirement already satisfied, skipping upgrade: soupsieve>1.2 in /usr/local/lib/python3.9/dist-packages (from beautifulsoup4->gdown->aifactory) (2.6)\n",
      "Requirement already satisfied, skipping upgrade: defusedxml in /usr/local/lib/python3.9/dist-packages (from nbconvert<8.0.0,>=7.11.0->pipreqs->aifactory) (0.7.1)\n",
      "Requirement already satisfied, skipping upgrade: markupsafe>=2.0 in /usr/local/lib/python3.9/dist-packages (from nbconvert<8.0.0,>=7.11.0->pipreqs->aifactory) (2.1.3)\n",
      "Requirement already satisfied, skipping upgrade: pandocfilters>=1.4.1 in /usr/local/lib/python3.9/dist-packages (from nbconvert<8.0.0,>=7.11.0->pipreqs->aifactory) (1.5.1)\n",
      "Requirement already satisfied, skipping upgrade: mistune<4,>=2.0.3 in /usr/local/lib/python3.9/dist-packages (from nbconvert<8.0.0,>=7.11.0->pipreqs->aifactory) (3.0.2)\n",
      "Requirement already satisfied, skipping upgrade: jinja2>=3.0 in /usr/local/lib/python3.9/dist-packages (from nbconvert<8.0.0,>=7.11.0->pipreqs->aifactory) (3.1.2)\n",
      "Requirement already satisfied, skipping upgrade: bleach!=5.0.0 in /usr/local/lib/python3.9/dist-packages (from nbconvert<8.0.0,>=7.11.0->pipreqs->aifactory) (6.1.0)\n",
      "Requirement already satisfied, skipping upgrade: nbclient>=0.5.0 in /usr/local/lib/python3.9/dist-packages (from nbconvert<8.0.0,>=7.11.0->pipreqs->aifactory) (0.10.0)\n",
      "Requirement already satisfied, skipping upgrade: jupyterlab-pygments in /usr/local/lib/python3.9/dist-packages (from nbconvert<8.0.0,>=7.11.0->pipreqs->aifactory) (0.3.0)\n",
      "Requirement already satisfied, skipping upgrade: nbformat>=5.7 in /usr/local/lib/python3.9/dist-packages (from nbconvert<8.0.0,>=7.11.0->pipreqs->aifactory) (5.10.4)\n",
      "Requirement already satisfied, skipping upgrade: importlib-metadata>=3.6; python_version < \"3.10\" in /usr/local/lib/python3.9/dist-packages (from nbconvert<8.0.0,>=7.11.0->pipreqs->aifactory) (7.0.1)\n",
      "Requirement already satisfied, skipping upgrade: tinycss2 in /usr/local/lib/python3.9/dist-packages (from nbconvert<8.0.0,>=7.11.0->pipreqs->aifactory) (1.3.0)\n",
      "Requirement already satisfied, skipping upgrade: platformdirs>=2.5 in /usr/local/lib/python3.9/dist-packages (from jupyter-core!=5.0.*,>=4.12->ipykernel->ipynbname->aifactory) (4.3.6)\n",
      "Requirement already satisfied, skipping upgrade: python-dateutil>=2.8.2 in /usr/local/lib/python3.9/dist-packages (from jupyter-client>=6.1.12->ipykernel->ipynbname->aifactory) (2.8.2)\n",
      "Requirement already satisfied, skipping upgrade: six>=1.12.0 in /usr/local/lib/python3.9/dist-packages (from asttokens>=2.1.0->stack-data->IPython->aifactory) (1.15.0)\n",
      "Requirement already satisfied, skipping upgrade: webencodings in /usr/local/lib/python3.9/dist-packages (from bleach!=5.0.0->nbconvert<8.0.0,>=7.11.0->pipreqs->aifactory) (0.5.1)\n",
      "Requirement already satisfied, skipping upgrade: fastjsonschema>=2.15 in /usr/local/lib/python3.9/dist-packages (from nbformat>=5.7->nbconvert<8.0.0,>=7.11.0->pipreqs->aifactory) (2.20.0)\n",
      "Requirement already satisfied, skipping upgrade: jsonschema>=2.6 in /usr/local/lib/python3.9/dist-packages (from nbformat>=5.7->nbconvert<8.0.0,>=7.11.0->pipreqs->aifactory) (4.23.0)\n",
      "Requirement already satisfied, skipping upgrade: zipp>=0.5 in /usr/local/lib/python3.9/dist-packages (from importlib-metadata>=3.6; python_version < \"3.10\"->nbconvert<8.0.0,>=7.11.0->pipreqs->aifactory) (3.17.0)\n",
      "Requirement already satisfied, skipping upgrade: jsonschema-specifications>=2023.03.6 in /usr/local/lib/python3.9/dist-packages (from jsonschema>=2.6->nbformat>=5.7->nbconvert<8.0.0,>=7.11.0->pipreqs->aifactory) (2023.12.1)\n",
      "Requirement already satisfied, skipping upgrade: attrs>=22.2.0 in /usr/local/lib/python3.9/dist-packages (from jsonschema>=2.6->nbformat>=5.7->nbconvert<8.0.0,>=7.11.0->pipreqs->aifactory) (23.2.0)\n",
      "Requirement already satisfied, skipping upgrade: referencing>=0.28.4 in /usr/local/lib/python3.9/dist-packages (from jsonschema>=2.6->nbformat>=5.7->nbconvert<8.0.0,>=7.11.0->pipreqs->aifactory) (0.35.1)\n",
      "Requirement already satisfied, skipping upgrade: rpds-py>=0.7.1 in /usr/local/lib/python3.9/dist-packages (from jsonschema>=2.6->nbformat>=5.7->nbconvert<8.0.0,>=7.11.0->pipreqs->aifactory) (0.20.0)\n"
     ]
    }
   ],
   "source": [
    "!pip install -U aifactory\n",
    "!pip install ultralytics\n",
    "!pip install opencv-python"
   ]
  },
  {
   "cell_type": "code",
   "execution_count": 5,
   "id": "ceacc7de",
   "metadata": {},
   "outputs": [
    {
     "ename": "ModuleNotFoundError",
     "evalue": "No module named 'ultralytics'",
     "output_type": "error",
     "traceback": [
      "\u001b[0;31m---------------------------------------------------------------------------\u001b[0m",
      "\u001b[0;31mModuleNotFoundError\u001b[0m                       Traceback (most recent call last)",
      "Cell \u001b[0;32mIn[5], line 1\u001b[0m\n\u001b[0;32m----> 1\u001b[0m \u001b[38;5;28;01mfrom\u001b[39;00m \u001b[38;5;21;01multralytics\u001b[39;00m \u001b[38;5;28;01mimport\u001b[39;00m YOLO\n\u001b[1;32m      2\u001b[0m \u001b[38;5;28;01mfrom\u001b[39;00m \u001b[38;5;21;01mval\u001b[39;00m \u001b[38;5;28;01mimport\u001b[39;00m make_submission\n\u001b[1;32m      4\u001b[0m test_path \u001b[38;5;241m=\u001b[39m \u001b[38;5;124m'\u001b[39m\u001b[38;5;124m/workspace/dataset\u001b[39m\u001b[38;5;124m'\u001b[39m\n",
      "\u001b[0;31mModuleNotFoundError\u001b[0m: No module named 'ultralytics'"
     ]
    }
   ],
   "source": [
    "from ultralytics import YOLO\n",
    "from val import make_submission\n",
    "\n",
    "test_path = '/workspace/dataset'\n",
    "make_submission(test_path)"
   ]
  },
  {
   "cell_type": "code",
   "execution_count": 8,
   "id": "0fad1f41",
   "metadata": {
    "scrolled": true
   },
   "outputs": [
    {
     "name": "stdout",
     "output_type": "stream",
     "text": [
      "file : task.py\n",
      "python\n",
      "제출 완료\n",
      "time: 27.17971396446228\n"
     ]
    }
   ],
   "source": [
    "import aifactory.score as aif\n",
    "import time\n",
    "\n",
    "t = time.time()\n",
    "aif.submit(model_name=\"yolo11x-obb\",\n",
    "           key=\"04f7da7f-e00e-45f1-b5ee-3cab210823e9\")\n",
    "print(\"time:\", time.time() - t)"
   ]
  }
 ],
 "metadata": {
  "kernelspec": {
   "display_name": "Python 3 (ipykernel)",
   "language": "python",
   "name": "python3"
  },
  "language_info": {
   "codemirror_mode": {
    "name": "ipython",
    "version": 3
   },
   "file_extension": ".py",
   "mimetype": "text/x-python",
   "name": "python",
   "nbconvert_exporter": "python",
   "pygments_lexer": "ipython3",
   "version": "3.8.10"
  }
 },
 "nbformat": 4,
 "nbformat_minor": 5
}
