{
 "cells": [
  {
   "cell_type": "markdown",
   "id": "860fe2dc",
   "metadata": {},
   "source": [
    "## 위성영상을 활용한 선박 탐지 AI 경진대회 제출 스크립트\n",
    "\n",
    "**주의1: 반드시 본 파일을 이용하여 제출을 수행해야 하며 파일의 이름은 task.ipynb로 유지되어야 합니다.**\n",
    "\n",
    "**주의2: 본 파일의 경로는 제출하시는 모든 모델, 스크립트 구성의 최상위 경로에 위치하고 있어야 합니다.**\n",
    "\n",
    "- 작성하신 추론용 코드를 본 스크립트 내에 삽입하는 것으로 결과 제출을 수행할 수 있습니다.\n",
    "- 테스트 데이터가 제공되지 않는 대회로, 안내된 경로를 파라미터로 입력하였을 때 모델이 경로 내의 이미지를 읽어서 추론을 수행할 수 있도록 구성되어야 합니다.\n",
    "\n",
    "코드는 크게 5가지 파트로 구성되며, 해당 파트의 특성을 지켜서 내용을 편집하시면 되겠습니다.\n",
    "1. 제출용 aifactory 라이브러리 설치 \n",
    "2. 기타 필요한 라이브러리 설치\n",
    "3. 추론 스크립트 구성\n",
    "4. aifactory 라이브러리를 이용한 제출 수행\n",
    "5. 기타 참고사항\n",
    "\n",
    "※ 가능하면 제출시에는 사용할 모델 및 weight를 제외한 나머지 데이터를 배제하고 제출하는 편을 권장합니다\n",
    "- 파일 크기 감소 → 업로드 시간 감소 → 전체 추론 수행 및 결과 확인 소요 시간 감소"
   ]
  },
  {
   "cell_type": "markdown",
   "id": "081a2646",
   "metadata": {},
   "source": [
    "### 1. 제출용 aifactory 라이브러리 설치\n",
    "#### 결과 전송에 필요하므로 아래와 같이 aifactory 라이브러리가 반드시 최신버전으로 설치될 수 있게끔 합니다"
   ]
  },
  {
   "cell_type": "code",
   "execution_count": 4,
   "id": "7c026fc5",
   "metadata": {
    "scrolled": true
   },
   "outputs": [
    {
     "name": "stdout",
     "output_type": "stream",
     "text": [
      "Requirement already up-to-date: aifactory in /usr/local/lib/python3.9/dist-packages (2.0.0)\n",
      "Requirement already satisfied, skipping upgrade: ipynbname in /usr/local/lib/python3.9/dist-packages (from aifactory) (2024.1.0.0)\n",
      "Requirement already satisfied, skipping upgrade: IPython in /usr/local/lib/python3.9/dist-packages (from aifactory) (8.18.1)\n",
      "Requirement already satisfied, skipping upgrade: requests in /usr/local/lib/python3.9/dist-packages (from aifactory) (2.31.0)\n",
      "Requirement already satisfied, skipping upgrade: gdown in /usr/local/lib/python3.9/dist-packages (from aifactory) (5.2.0)\n",
      "Requirement already satisfied, skipping upgrade: pipreqs in /usr/local/lib/python3.9/dist-packages (from aifactory) (0.5.0)\n",
      "Requirement already satisfied, skipping upgrade: ipykernel in /usr/local/lib/python3.9/dist-packages (from ipynbname->aifactory) (6.29.5)\n",
      "Requirement already satisfied, skipping upgrade: pexpect>4.3; sys_platform != \"win32\" in /usr/local/lib/python3.9/dist-packages (from IPython->aifactory) (4.9.0)\n",
      "Requirement already satisfied, skipping upgrade: traitlets>=5 in /usr/local/lib/python3.9/dist-packages (from IPython->aifactory) (5.14.3)\n",
      "Requirement already satisfied, skipping upgrade: exceptiongroup; python_version < \"3.11\" in /usr/local/lib/python3.9/dist-packages (from IPython->aifactory) (1.2.0)\n",
      "Requirement already satisfied, skipping upgrade: typing-extensions; python_version < \"3.10\" in /usr/local/lib/python3.9/dist-packages (from IPython->aifactory) (3.7.4.3)\n",
      "Requirement already satisfied, skipping upgrade: jedi>=0.16 in /usr/local/lib/python3.9/dist-packages (from IPython->aifactory) (0.19.1)\n",
      "Requirement already satisfied, skipping upgrade: pygments>=2.4.0 in /usr/local/lib/python3.9/dist-packages (from IPython->aifactory) (2.18.0)\n",
      "Requirement already satisfied, skipping upgrade: stack-data in /usr/local/lib/python3.9/dist-packages (from IPython->aifactory) (0.6.3)\n",
      "Requirement already satisfied, skipping upgrade: matplotlib-inline in /usr/local/lib/python3.9/dist-packages (from IPython->aifactory) (0.1.7)\n",
      "Requirement already satisfied, skipping upgrade: prompt-toolkit<3.1.0,>=3.0.41 in /usr/local/lib/python3.9/dist-packages (from IPython->aifactory) (3.0.48)\n",
      "Requirement already satisfied, skipping upgrade: decorator in /usr/local/lib/python3.9/dist-packages (from IPython->aifactory) (5.1.1)\n",
      "Requirement already satisfied, skipping upgrade: urllib3<3,>=1.21.1 in /usr/local/lib/python3.9/dist-packages (from requests->aifactory) (1.26.18)\n",
      "Requirement already satisfied, skipping upgrade: idna<4,>=2.5 in /usr/lib/python3/dist-packages (from requests->aifactory) (2.8)\n",
      "Requirement already satisfied, skipping upgrade: charset-normalizer<4,>=2 in /usr/local/lib/python3.9/dist-packages (from requests->aifactory) (3.3.2)\n",
      "Requirement already satisfied, skipping upgrade: certifi>=2017.4.17 in /usr/lib/python3/dist-packages (from requests->aifactory) (2019.11.28)\n",
      "Requirement already satisfied, skipping upgrade: filelock in /usr/local/lib/python3.9/dist-packages (from gdown->aifactory) (3.9.0)\n",
      "Requirement already satisfied, skipping upgrade: tqdm in /usr/local/lib/python3.9/dist-packages (from gdown->aifactory) (4.66.2)\n",
      "Requirement already satisfied, skipping upgrade: beautifulsoup4 in /usr/local/lib/python3.9/dist-packages (from gdown->aifactory) (4.12.3)\n",
      "Requirement already satisfied, skipping upgrade: docopt==0.6.2 in /usr/local/lib/python3.9/dist-packages (from pipreqs->aifactory) (0.6.2)\n",
      "Requirement already satisfied, skipping upgrade: nbconvert<8.0.0,>=7.11.0 in /usr/local/lib/python3.9/dist-packages (from pipreqs->aifactory) (7.16.4)\n",
      "Requirement already satisfied, skipping upgrade: yarg==0.1.9 in /usr/local/lib/python3.9/dist-packages (from pipreqs->aifactory) (0.1.9)\n",
      "Requirement already satisfied, skipping upgrade: comm>=0.1.1 in /usr/local/lib/python3.9/dist-packages (from ipykernel->ipynbname->aifactory) (0.2.2)\n",
      "Requirement already satisfied, skipping upgrade: psutil in /usr/local/lib/python3.9/dist-packages (from ipykernel->ipynbname->aifactory) (5.9.8)\n",
      "Requirement already satisfied, skipping upgrade: tornado>=6.1 in /usr/local/lib/python3.9/dist-packages (from ipykernel->ipynbname->aifactory) (6.4.1)\n",
      "Requirement already satisfied, skipping upgrade: packaging in /usr/local/lib/python3.9/dist-packages (from ipykernel->ipynbname->aifactory) (23.2)\n",
      "Requirement already satisfied, skipping upgrade: debugpy>=1.6.5 in /usr/local/lib/python3.9/dist-packages (from ipykernel->ipynbname->aifactory) (1.8.6)\n",
      "Requirement already satisfied, skipping upgrade: nest-asyncio in /usr/local/lib/python3.9/dist-packages (from ipykernel->ipynbname->aifactory) (1.6.0)\n",
      "Requirement already satisfied, skipping upgrade: jupyter-core!=5.0.*,>=4.12 in /usr/local/lib/python3.9/dist-packages (from ipykernel->ipynbname->aifactory) (5.7.2)\n",
      "Requirement already satisfied, skipping upgrade: jupyter-client>=6.1.12 in /usr/local/lib/python3.9/dist-packages (from ipykernel->ipynbname->aifactory) (8.6.3)\n",
      "Requirement already satisfied, skipping upgrade: pyzmq>=24 in /usr/local/lib/python3.9/dist-packages (from ipykernel->ipynbname->aifactory) (26.2.0)\n",
      "Requirement already satisfied, skipping upgrade: ptyprocess>=0.5 in /usr/local/lib/python3.9/dist-packages (from pexpect>4.3; sys_platform != \"win32\"->IPython->aifactory) (0.7.0)\n",
      "Requirement already satisfied, skipping upgrade: parso<0.9.0,>=0.8.3 in /usr/local/lib/python3.9/dist-packages (from jedi>=0.16->IPython->aifactory) (0.8.4)\n",
      "Requirement already satisfied, skipping upgrade: pure-eval in /usr/local/lib/python3.9/dist-packages (from stack-data->IPython->aifactory) (0.2.3)\n",
      "Requirement already satisfied, skipping upgrade: executing>=1.2.0 in /usr/local/lib/python3.9/dist-packages (from stack-data->IPython->aifactory) (2.1.0)\n",
      "Requirement already satisfied, skipping upgrade: asttokens>=2.1.0 in /usr/local/lib/python3.9/dist-packages (from stack-data->IPython->aifactory) (2.4.1)\n",
      "Requirement already satisfied, skipping upgrade: wcwidth in /usr/local/lib/python3.9/dist-packages (from prompt-toolkit<3.1.0,>=3.0.41->IPython->aifactory) (0.2.13)\n",
      "Requirement already satisfied, skipping upgrade: soupsieve>1.2 in /usr/local/lib/python3.9/dist-packages (from beautifulsoup4->gdown->aifactory) (2.6)\n",
      "Requirement already satisfied, skipping upgrade: defusedxml in /usr/local/lib/python3.9/dist-packages (from nbconvert<8.0.0,>=7.11.0->pipreqs->aifactory) (0.7.1)\n",
      "Requirement already satisfied, skipping upgrade: markupsafe>=2.0 in /usr/local/lib/python3.9/dist-packages (from nbconvert<8.0.0,>=7.11.0->pipreqs->aifactory) (2.1.3)\n",
      "Requirement already satisfied, skipping upgrade: pandocfilters>=1.4.1 in /usr/local/lib/python3.9/dist-packages (from nbconvert<8.0.0,>=7.11.0->pipreqs->aifactory) (1.5.1)\n",
      "Requirement already satisfied, skipping upgrade: mistune<4,>=2.0.3 in /usr/local/lib/python3.9/dist-packages (from nbconvert<8.0.0,>=7.11.0->pipreqs->aifactory) (3.0.2)\n",
      "Requirement already satisfied, skipping upgrade: jinja2>=3.0 in /usr/local/lib/python3.9/dist-packages (from nbconvert<8.0.0,>=7.11.0->pipreqs->aifactory) (3.1.2)\n",
      "Requirement already satisfied, skipping upgrade: bleach!=5.0.0 in /usr/local/lib/python3.9/dist-packages (from nbconvert<8.0.0,>=7.11.0->pipreqs->aifactory) (6.1.0)\n",
      "Requirement already satisfied, skipping upgrade: nbclient>=0.5.0 in /usr/local/lib/python3.9/dist-packages (from nbconvert<8.0.0,>=7.11.0->pipreqs->aifactory) (0.10.0)\n",
      "Requirement already satisfied, skipping upgrade: jupyterlab-pygments in /usr/local/lib/python3.9/dist-packages (from nbconvert<8.0.0,>=7.11.0->pipreqs->aifactory) (0.3.0)\n",
      "Requirement already satisfied, skipping upgrade: nbformat>=5.7 in /usr/local/lib/python3.9/dist-packages (from nbconvert<8.0.0,>=7.11.0->pipreqs->aifactory) (5.10.4)\n",
      "Requirement already satisfied, skipping upgrade: importlib-metadata>=3.6; python_version < \"3.10\" in /usr/local/lib/python3.9/dist-packages (from nbconvert<8.0.0,>=7.11.0->pipreqs->aifactory) (7.0.1)\n",
      "Requirement already satisfied, skipping upgrade: tinycss2 in /usr/local/lib/python3.9/dist-packages (from nbconvert<8.0.0,>=7.11.0->pipreqs->aifactory) (1.3.0)\n",
      "Requirement already satisfied, skipping upgrade: platformdirs>=2.5 in /usr/local/lib/python3.9/dist-packages (from jupyter-core!=5.0.*,>=4.12->ipykernel->ipynbname->aifactory) (4.3.6)\n",
      "Requirement already satisfied, skipping upgrade: python-dateutil>=2.8.2 in /usr/local/lib/python3.9/dist-packages (from jupyter-client>=6.1.12->ipykernel->ipynbname->aifactory) (2.8.2)\n",
      "Requirement already satisfied, skipping upgrade: six>=1.12.0 in /usr/local/lib/python3.9/dist-packages (from asttokens>=2.1.0->stack-data->IPython->aifactory) (1.15.0)\n",
      "Requirement already satisfied, skipping upgrade: webencodings in /usr/local/lib/python3.9/dist-packages (from bleach!=5.0.0->nbconvert<8.0.0,>=7.11.0->pipreqs->aifactory) (0.5.1)\n",
      "Requirement already satisfied, skipping upgrade: fastjsonschema>=2.15 in /usr/local/lib/python3.9/dist-packages (from nbformat>=5.7->nbconvert<8.0.0,>=7.11.0->pipreqs->aifactory) (2.20.0)\n",
      "Requirement already satisfied, skipping upgrade: jsonschema>=2.6 in /usr/local/lib/python3.9/dist-packages (from nbformat>=5.7->nbconvert<8.0.0,>=7.11.0->pipreqs->aifactory) (4.23.0)\n",
      "Requirement already satisfied, skipping upgrade: zipp>=0.5 in /usr/local/lib/python3.9/dist-packages (from importlib-metadata>=3.6; python_version < \"3.10\"->nbconvert<8.0.0,>=7.11.0->pipreqs->aifactory) (3.17.0)\n",
      "Requirement already satisfied, skipping upgrade: jsonschema-specifications>=2023.03.6 in /usr/local/lib/python3.9/dist-packages (from jsonschema>=2.6->nbformat>=5.7->nbconvert<8.0.0,>=7.11.0->pipreqs->aifactory) (2023.12.1)\n",
      "Requirement already satisfied, skipping upgrade: attrs>=22.2.0 in /usr/local/lib/python3.9/dist-packages (from jsonschema>=2.6->nbformat>=5.7->nbconvert<8.0.0,>=7.11.0->pipreqs->aifactory) (23.2.0)\n",
      "Requirement already satisfied, skipping upgrade: referencing>=0.28.4 in /usr/local/lib/python3.9/dist-packages (from jsonschema>=2.6->nbformat>=5.7->nbconvert<8.0.0,>=7.11.0->pipreqs->aifactory) (0.35.1)\n",
      "Requirement already satisfied, skipping upgrade: rpds-py>=0.7.1 in /usr/local/lib/python3.9/dist-packages (from jsonschema>=2.6->nbformat>=5.7->nbconvert<8.0.0,>=7.11.0->pipreqs->aifactory) (0.20.0)\n"
     ]
    }
   ],
   "source": [
    "!pip install -U aifactory"
   ]
  },
  {
   "cell_type": "markdown",
   "id": "cc9c7af5",
   "metadata": {},
   "source": [
    "### 2. 기타 필요한 라이브러리 설치\n",
    "#### 사전 제공되지 않은 라이브러리 가운데 필요한 것이 있는 경우 여기에 설치 명령을 넣습니다\n",
    "**예)** !pip install tensorflow[and-cuda]      *# PyTorch 대신 GPU를 사용하는 tensorflow를 설치하는 경우*"
   ]
  },
  {
   "cell_type": "code",
   "execution_count": null,
   "id": "c5bf3550",
   "metadata": {},
   "outputs": [],
   "source": [
    "#!pip install tensorflow[and-cuda]"
   ]
  },
  {
   "cell_type": "markdown",
   "id": "ade5aeb9",
   "metadata": {},
   "source": [
    "### 3. 추론 스크립트 구성\n",
    "#### 추론 스크립트 편집 시 주의사항\n",
    "\n",
    "1. 전체 추론 실행 코드를 삽입, 테스트셋에 대하여 추론을 수행하고 결과를 지정된 파일명으로 저장하도록 구성\n",
    "   - 필요한 경우 현재 위치(제목 3.이하, 제목 4.이전)에서 코드를 여러 셀로 나누어 저장해도 무방합니다.\n",
    "   - 결과 파일은 현재 경로에 **submission.csv**로 저장합니다.\n",
    "3. 제출 폴더 및 모델 소스코드 내부의 경로는 **./폴더명 또는 ./파일명**으로 **상대 경로**를 지정합니다.\n",
    "4. 테스트셋 경로는 **/workspace/dataset** 입니다. \n",
    "5. 저장할 파일명과 양식에 유의합니다.\n",
    "   - 대회 페이지 [데이터]탭 참조\n",
    "   - 파일 양식 가운데 image_name 열은 경로명을 제외하고 정확히 파일명(abcd.jpg)만 들어가야 하므로 코드 작성 시에 참고 부탁드립니다."
   ]
  },
  {
   "cell_type": "code",
   "execution_count": null,
   "id": "ceacc7de",
   "metadata": {},
   "outputs": [],
   "source": [
    "# 예)\n",
    "# import Model\n",
    "# test_path = '/workspace/dataset'\n",
    "# model = Model()\n",
    "# out = model.predict(test_path)\n",
    "# out.to_csv(\"submission.csv\", index=False)  # CSV로 저장"
   ]
  },
  {
   "cell_type": "markdown",
   "id": "75251594",
   "metadata": {},
   "source": [
    "### 4. aifactory 라이브러리를 이용한 제출 수행\n",
    "#### ※ task별, 참가자별로 key가 다릅니다. 잘못 입력하지 않도록 유의바랍니다.\n",
    "- key는 플랫폼 우측 상단 아이콘 - [마이페이지] - [활동히스토리] 아래 [Competition] 란에서 대회 이름으로 확인하실 수 있습니다."
   ]
  },
  {
   "cell_type": "code",
   "execution_count": 1,
   "id": "0fad1f41",
   "metadata": {
    "scrolled": true
   },
   "outputs": [
    {
     "name": "stdout",
     "output_type": "stream",
     "text": [
      "file : task.py\n",
      "python\n"
     ]
    },
    {
     "name": "stderr",
     "output_type": "stream",
     "text": [
      "/usr/lib/python3/dist-packages/requests/__init__.py:89: RequestsDependencyWarning: urllib3 (2.2.1) or chardet (3.0.4) doesn't match a supported version!\n",
      "  warnings.warn(\"urllib3 ({}) or chardet ({}) doesn't match a supported \"\n"
     ]
    },
    {
     "name": "stdout",
     "output_type": "stream",
     "text": [
      "이 대회는 <u>60분</u> 마다 제출이 가능합니다.\n",
      "                    <br> 다음 제출 가능 시간: 2024-10-04 18:42:55 이후\n",
      "time: 10.405369520187378\n"
     ]
    }
   ],
   "source": [
    "import aifactory.score as aif\n",
    "import time\n",
    "\n",
    "t = time.time()\n",
    "aif.submit(model_name=\"nothing\",\n",
    "           key=\"04f7da7f-e00e-45f1-b5ee-3cab210823e9\")\n",
    "print(\"time:\", time.time() - t)"
   ]
  },
  {
   "cell_type": "markdown",
   "id": "3f9ef961-5696-45fb-b3d4-173083b29f70",
   "metadata": {},
   "source": [
    "### 5. 기타 참고사항\n",
    "- 추론 수행 시간:\n",
    "  - 일반적으로 기본 사이즈의 YOLO계열 모델 사용 시 test set 전체 추론에는 1시간 정도가 소요됩니다.\n",
    "- CUDA Out of Memory 문제:\n",
    "  - GPU OOM이 발생하는 경우 \n",
    "    - 각 image 사이 또는 batch 사이에 torch.cuda.empty_cache() 및 gc.collect()를 입력하여 VRAM의 낭비 공간을 정리하거나\n",
    "    - Batch size를 조절하는 방법 등을 활용해볼 수 있습니다.\n",
    "- Storage:\n",
    "  - 추론 환경에서는 참가자 분의 모델 및 기타 산출물이 임시 저장되는 공간으로 기본 16GB가 제공되므로 작업 시에 참고 부탁드립니다."
   ]
  },
  {
   "cell_type": "markdown",
   "id": "4a43a360",
   "metadata": {},
   "source": []
  }
 ],
 "metadata": {
  "kernelspec": {
   "display_name": "Python 3 (ipykernel)",
   "language": "python",
   "name": "python3"
  },
  "language_info": {
   "codemirror_mode": {
    "name": "ipython",
    "version": 3
   },
   "file_extension": ".py",
   "mimetype": "text/x-python",
   "name": "python",
   "nbconvert_exporter": "python",
   "pygments_lexer": "ipython3",
   "version": "3.8.10"
  }
 },
 "nbformat": 4,
 "nbformat_minor": 5
}
